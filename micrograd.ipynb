{
 "cells": [
  {
   "cell_type": "code",
   "execution_count": 1,
   "id": "88e107e3",
   "metadata": {},
   "outputs": [],
   "source": [
    "import math\n",
    "import numpy as np\n",
    "import matplotlib.pyplot as plt\n",
    "%matplotlib inline"
   ]
  },
  {
   "cell_type": "code",
   "execution_count": 2,
   "id": "f82c5c7a",
   "metadata": {},
   "outputs": [],
   "source": [
    "def f(x):\n",
    "    return 3*x**2 -4*x + 5"
   ]
  },
  {
   "cell_type": "code",
   "execution_count": 3,
   "id": "d6d17849",
   "metadata": {},
   "outputs": [
    {
     "data": {
      "text/plain": [
       "20"
      ]
     },
     "execution_count": 3,
     "metadata": {},
     "output_type": "execute_result"
    }
   ],
   "source": [
    "f(3)"
   ]
  },
  {
   "cell_type": "code",
   "execution_count": 4,
   "id": "4cc9e506",
   "metadata": {},
   "outputs": [
    {
     "data": {
      "text/plain": [
       "[<matplotlib.lines.Line2D at 0x10c08d6d0>]"
      ]
     },
     "execution_count": 4,
     "metadata": {},
     "output_type": "execute_result"
    },
    {
     "data": {
      "image/png": "[encoded data removed]",
      "text/plain": [
       "<Figure size 640x480 with 1 Axes>"
      ]
     },
     "metadata": {},
     "output_type": "display_data"
    }
   ],
   "source": [
    "xs = np.arange(-5, 5, 0.25)\n",
    "ys = f(xs)\n",
    "plt.plot(xs, ys)"
   ]
  },
  {
   "cell_type": "code",
   "execution_count": 5,
   "id": "3bcdee21",
   "metadata": {},
   "outputs": [
    {
     "data": {
      "text/plain": [
       "2.9753977059954195e-07"
      ]
     },
     "execution_count": 5,
     "metadata": {},
     "output_type": "execute_result"
    }
   ],
   "source": [
    "h = 0.0000001\n",
    "x = 2/3\n",
    "(f(x + h) - f(x)) / h"
   ]
  },
  {
   "cell_type": "code",
   "execution_count": 6,
   "id": "49f12595",
   "metadata": {},
   "outputs": [
    {
     "data": {
      "text/plain": [
       "4.0"
      ]
     },
     "execution_count": 6,
     "metadata": {},
     "output_type": "execute_result"
    }
   ],
   "source": [
    "a = 2.0\n",
    "b = -3.0\n",
    "c = 10.0\n",
    "d = a*b + c\n",
    "d"
   ]
  },
  {
   "cell_type": "code",
   "execution_count": 7,
   "id": "64c54261",
   "metadata": {},
   "outputs": [
    {
     "name": "stdout",
     "output_type": "stream",
     "text": [
      "d1 4.0\n",
      "d2 4.0001\n",
      "slope 0.9999999999976694\n"
     ]
    }
   ],
   "source": [
    "h = 0.0001\n",
    "\n",
    "a = 2.0\n",
    "b = -3.0\n",
    "c = 10.0\n",
    "\n",
    "d1 = a*b + c\n",
    "c += h\n",
    "d2 = a*b + c\n",
    "\n",
    "print('d1', d1)\n",
    "print('d2', d2)\n",
    "print('slope', (d2 - d1) / h)"
   ]
  },
  {
   "cell_type": "code",
   "execution_count": 8,
   "id": "ac19f3c3",
   "metadata": {},
   "outputs": [],
   "source": [
    "class Value:\n",
    "\n",
    "    def __init__(self, data, _children=(), _op='', label=''):\n",
    "        self.data = data\n",
    "        self._backward = lambda: None\n",
    "        self.grad = 0.0\n",
    "        self._prev = set(_children)\n",
    "        self._op = _op\n",
    "        self.label = label\n",
    "    \n",
    "    def __repr__(self):\n",
    "        return f\"Value(data={self.data})\"\n",
    "    \n",
    "    def __add__(self, other):\n",
    "        other = other if isinstance(other, Value) else Value(other)\n",
    "        out = Value(self.data + other.data, (self, other), '+')\n",
    "\n",
    "        def _backward():\n",
    "            self.grad += out.grad\n",
    "            other.grad += out.grad\n",
    "\n",
    "        out._backward = _backward\n",
    "\n",
    "        return out\n",
    "    \n",
    "    def __mul__(self, other):\n",
    "        other = other if isinstance(other, Value) else Value(other)\n",
    "        out = Value(self.data * other.data, (self, other), '*')\n",
    "\n",
    "        def _backward():\n",
    "            self.grad += other.data * out.grad\n",
    "            other.grad += self.data * out.grad\n",
    "        \n",
    "        out._backward = _backward\n",
    "\n",
    "        return out\n",
    "    \n",
    "    def __pow__(self, other):\n",
    "        assert isinstance(other, (int, float))\n",
    "        out = Value(self.data**other, (self,), f'**{other}')\n",
    "\n",
    "        def _backward():\n",
    "            self.grad = other * (self.data**(other-1)) * out.grad\n",
    "        \n",
    "        out._backward = _backward\n",
    "\n",
    "        return out\n",
    "    \n",
    "    def __radd__(self, other):\n",
    "        return self + other\n",
    "    \n",
    "    def __rmul__(self, other):\n",
    "        return self * other\n",
    "\n",
    "    def __truediv__(self, other):\n",
    "        return self * other**(-1)\n",
    "    \n",
    "    def __neg__(self):\n",
    "        return self * -1\n",
    "    \n",
    "    def __sub__(self, other):\n",
    "        return self + (-other)\n",
    "    \n",
    "    def tanh(self):\n",
    "        x = self.data\n",
    "        t = (math.exp(2*x) - 1) / (math.exp(2*x) + 1)\n",
    "        out = Value(t, (self, ), 'tanh')\n",
    "\n",
    "        def _backward():\n",
    "            self.grad += (1 - t**2) * out.grad\n",
    "\n",
    "        out._backward = _backward\n",
    "\n",
    "        return out\n",
    "    \n",
    "    def exp(self):\n",
    "        x = self.data\n",
    "        out = Value(math.exp(x), (self, ), 'exp')\n",
    "\n",
    "        def _backward():\n",
    "            self.grad += out.data * out.grad\n",
    "        \n",
    "        out._backward = _backward\n",
    "\n",
    "        return out\n",
    "    \n",
    "    def backward(self):\n",
    "\n",
    "        topo = []\n",
    "        visited = set()\n",
    "        def build_topo(v):\n",
    "            if v not in visited:\n",
    "                visited.add(v)\n",
    "                for child in v._prev:\n",
    "                    build_topo(child)\n",
    "                topo.append(v)\n",
    "\n",
    "        build_topo(self)\n",
    "\n",
    "        self.grad = 1.0\n",
    "\n",
    "        for node in reversed(topo):\n",
    "                node._backward()\n"
   ]
  },
  {
   "cell_type": "code",
   "execution_count": 9,
   "id": "a367931b",
   "metadata": {},
   "outputs": [
    {
     "data": {
      "text/plain": [
       "Value(data=-2.0)"
      ]
     },
     "execution_count": 9,
     "metadata": {},
     "output_type": "execute_result"
    }
   ],
   "source": [
    "a = Value(2.0)\n",
    "b = Value(4.0)\n",
    "\n",
    "a-b"
   ]
  },
  {
   "cell_type": "code",
   "execution_count": 10,
   "id": "cd83ace5",
   "metadata": {},
   "outputs": [],
   "source": [
    "from graphviz import Digraph\n",
    "\n",
    "def trace(root):\n",
    "    # builds a set of all nodes and edges in a graph\n",
    "    nodes, edges = set(), set()\n",
    "    def build(v):\n",
    "        if v not in nodes:\n",
    "            nodes.add(v)\n",
    "            for child in v._prev:\n",
    "                edges.add((child, v))\n",
    "                build(child)\n",
    "    build(root)\n",
    "    return nodes, edges\n",
    "\n",
    "def draw_dot(root):\n",
    "    dot = Digraph(format='svg', graph_attr={'rankdir': 'LR'}) # LR = left to right\n",
    "\n",
    "    nodes, edges = trace(root)\n",
    "\n",
    "    for n in nodes:\n",
    "        uid = str(id(n))\n",
    "        # for any value in the graph, create a rectangular ('record') node for it\n",
    "        dot.node(name = uid, label= \"{ %s | data %.4f | grad %.4f }\" % (n.label, n.data, n.grad), shape='record')\n",
    "        if n._op:\n",
    "            # if this value is a result of some operations, create an op node for it\n",
    "            dot.node(name= uid + n._op, label = n._op)\n",
    "            # and connect this node to it\n",
    "            dot.edge(uid + n._op, uid)\n",
    "\n",
    "    for n1, n2 in edges:\n",
    "        # connect n1 to the op node of n2\n",
    "        dot.edge(str(id(n1)), str(id(n2)) + n2._op)\n",
    "\n",
    "    return dot"
   ]
  },
  {
   "cell_type": "code",
   "execution_count": 11,
   "id": "b626eb54",
   "metadata": {},
   "outputs": [],
   "source": [
    "# inputs x1, x2\n",
    "x1 = Value(2.0, label='x1')\n",
    "x2 = Value(0.0, label='x2')\n",
    "\n",
    "# weights w1, w2\n",
    "w1 = Value(-3.0, label='w1')\n",
    "w2 = Value(1.0, label='w2')\n",
    "\n",
    "# bias of the neuron\n",
    "b = Value(6.8813735870195432, label='b')\n",
    "\n",
    "# x1w1 + x2w2 + b\n",
    "x1w1 = x1*w1; x1w1.label = 'x1w1'\n",
    "x2w2 = x2*w2; x2w2.label = 'x2w2'\n",
    "\n",
    "x1w1x2w2 = x1w1 + x2w2; x1w1x2w2.label = 'x1w1 + x2w2'\n",
    "\n",
    "n = x1w1x2w2 + b; n.label = 'n'\n",
    "\n",
    "o = n.tanh(); o.label = 'o'\n",
    "\n",
    "o.backward()"
   ]
  },
  {
   "cell_type": "code",
   "execution_count": 12,
   "id": "f5db696e",
   "metadata": {},
   "outputs": [
    {
     "data": {
      "image/svg+xml": [
       "<?xml version=\"1.0\" encoding=\"UTF-8\" standalone=\"no\"?>\n",
       "<!DOCTYPE svg PUBLIC \"-//W3C//DTD SVG 1.1//EN\"\n",
       " \"http://www.w3.org/Graphics/SVG/1.1/DTD/svg11.dtd\">\n",
       "<!-- Generated by graphviz version 2.40.1 (20161225.0304)\n",
       " -->\n",
       "<!-- Title: %3 Pages: 1 -->\n",
       "<svg width=\"1573pt\" height=\"210pt\"\n",
       " viewBox=\"0.00 0.00 1573.00 210.00\" xmlns=\"http://www.w3.org/2000/svg\" xmlns:xlink=\"http://www.w3.org/1999/xlink\">\n",
       "<g id=\"graph0\" class=\"graph\" transform=\"scale(1 1) rotate(0) translate(4 206)\">\n",
       "<title>%3</title>\n",
       "<polygon fill=\"#ffffff\" stroke=\"transparent\" points=\"-4,4 -4,-206 1569,-206 1569,4 -4,4\"/>\n",
       "<!-- 4499991120 -->\n",
       "<g id=\"node1\" class=\"node\">\n",
       "<title>4499991120</title>\n",
       "<polygon fill=\"none\" stroke=\"#000000\" points=\"672,-82.5 672,-118.5 935,-118.5 935,-82.5 672,-82.5\"/>\n",
       "<text text-anchor=\"middle\" x=\"719\" y=\"-96.8\" font-family=\"Times,serif\" font-size=\"14.00\" fill=\"#000000\">x1w1 + x2w2</text>\n",
       "<polyline fill=\"none\" stroke=\"#000000\" points=\"766,-82.5 766,-118.5 \"/>\n",
       "<text text-anchor=\"middle\" x=\"809\" y=\"-96.8\" font-family=\"Times,serif\" font-size=\"14.00\" fill=\"#000000\">data &#45;6.0000</text>\n",
       "<polyline fill=\"none\" stroke=\"#000000\" points=\"852,-82.5 852,-118.5 \"/>\n",
       "<text text-anchor=\"middle\" x=\"893.5\" y=\"-96.8\" font-family=\"Times,serif\" font-size=\"14.00\" fill=\"#000000\">grad 0.5000</text>\n",
       "</g>\n",
       "<!-- 4499990896+ -->\n",
       "<g id=\"node12\" class=\"node\">\n",
       "<title>4499990896+</title>\n",
       "<ellipse fill=\"none\" stroke=\"#000000\" cx=\"998\" cy=\"-127.5\" rx=\"27\" ry=\"18\"/>\n",
       "<text text-anchor=\"middle\" x=\"998\" y=\"-123.8\" font-family=\"Times,serif\" font-size=\"14.00\" fill=\"#000000\">+</text>\n",
       "</g>\n",
       "<!-- 4499991120&#45;&gt;4499990896+ -->\n",
       "<g id=\"edge14\" class=\"edge\">\n",
       "<title>4499991120&#45;&gt;4499990896+</title>\n",
       "<path fill=\"none\" stroke=\"#000000\" d=\"M933.2343,-118.5094C943.2295,-119.8969 952.7075,-121.2126 961.1736,-122.3879\"/>\n",
       "<polygon fill=\"#000000\" stroke=\"#000000\" points=\"960.9326,-125.8879 971.3189,-123.7962 961.8952,-118.9544 960.9326,-125.8879\"/>\n",
       "</g>\n",
       "<!-- 4499991120+ -->\n",
       "<g id=\"node2\" class=\"node\">\n",
       "<title>4499991120+</title>\n",
       "<ellipse fill=\"none\" stroke=\"#000000\" cx=\"609\" cy=\"-100.5\" rx=\"27\" ry=\"18\"/>\n",
       "<text text-anchor=\"middle\" x=\"609\" y=\"-96.8\" font-family=\"Times,serif\" font-size=\"14.00\" fill=\"#000000\">+</text>\n",
       "</g>\n",
       "<!-- 4499991120+&#45;&gt;4499991120 -->\n",
       "<g id=\"edge1\" class=\"edge\">\n",
       "<title>4499991120+&#45;&gt;4499991120</title>\n",
       "<path fill=\"none\" stroke=\"#000000\" d=\"M636.0444,-100.5C643.559,-100.5 652.2712,-100.5 661.6955,-100.5\"/>\n",
       "<polygon fill=\"#000000\" stroke=\"#000000\" points=\"661.7542,-104.0001 671.7542,-100.5 661.7541,-97.0001 661.7542,-104.0001\"/>\n",
       "</g>\n",
       "<!-- 4500246096 -->\n",
       "<g id=\"node3\" class=\"node\">\n",
       "<title>4500246096</title>\n",
       "<polygon fill=\"none\" stroke=\"#000000\" points=\"709,-137.5 709,-173.5 898,-173.5 898,-137.5 709,-137.5\"/>\n",
       "<text text-anchor=\"middle\" x=\"721\" y=\"-151.8\" font-family=\"Times,serif\" font-size=\"14.00\" fill=\"#000000\">b</text>\n",
       "<polyline fill=\"none\" stroke=\"#000000\" points=\"733,-137.5 733,-173.5 \"/>\n",
       "<text text-anchor=\"middle\" x=\"774\" y=\"-151.8\" font-family=\"Times,serif\" font-size=\"14.00\" fill=\"#000000\">data 6.8814</text>\n",
       "<polyline fill=\"none\" stroke=\"#000000\" points=\"815,-137.5 815,-173.5 \"/>\n",
       "<text text-anchor=\"middle\" x=\"856.5\" y=\"-151.8\" font-family=\"Times,serif\" font-size=\"14.00\" fill=\"#000000\">grad 0.5000</text>\n",
       "</g>\n",
       "<!-- 4500246096&#45;&gt;4499990896+ -->\n",
       "<g id=\"edge11\" class=\"edge\">\n",
       "<title>4500246096&#45;&gt;4499990896+</title>\n",
       "<path fill=\"none\" stroke=\"#000000\" d=\"M898.1861,-141.8691C920.6374,-138.637 943.271,-135.3787 961.2962,-132.7838\"/>\n",
       "<polygon fill=\"#000000\" stroke=\"#000000\" points=\"961.9412,-136.2272 971.3404,-131.3379 960.9437,-129.2986 961.9412,-136.2272\"/>\n",
       "</g>\n",
       "<!-- 4498734160 -->\n",
       "<g id=\"node4\" class=\"node\">\n",
       "<title>4498734160</title>\n",
       "<polygon fill=\"none\" stroke=\"#000000\" points=\"331,-110.5 331,-146.5 544,-146.5 544,-110.5 331,-110.5\"/>\n",
       "<text text-anchor=\"middle\" x=\"355\" y=\"-124.8\" font-family=\"Times,serif\" font-size=\"14.00\" fill=\"#000000\">x2w2</text>\n",
       "<polyline fill=\"none\" stroke=\"#000000\" points=\"379,-110.5 379,-146.5 \"/>\n",
       "<text text-anchor=\"middle\" x=\"420\" y=\"-124.8\" font-family=\"Times,serif\" font-size=\"14.00\" fill=\"#000000\">data 0.0000</text>\n",
       "<polyline fill=\"none\" stroke=\"#000000\" points=\"461,-110.5 461,-146.5 \"/>\n",
       "<text text-anchor=\"middle\" x=\"502.5\" y=\"-124.8\" font-family=\"Times,serif\" font-size=\"14.00\" fill=\"#000000\">grad 0.5000</text>\n",
       "</g>\n",
       "<!-- 4498734160&#45;&gt;4499991120+ -->\n",
       "<g id=\"edge13\" class=\"edge\">\n",
       "<title>4498734160&#45;&gt;4499991120+</title>\n",
       "<path fill=\"none\" stroke=\"#000000\" d=\"M544.1632,-111.0856C554.2361,-109.4411 563.8989,-107.8634 572.5483,-106.4513\"/>\n",
       "<polygon fill=\"#000000\" stroke=\"#000000\" points=\"573.2502,-109.8831 582.5555,-104.8175 572.1222,-102.9746 573.2502,-109.8831\"/>\n",
       "</g>\n",
       "<!-- 4498734160* -->\n",
       "<g id=\"node5\" class=\"node\">\n",
       "<title>4498734160*</title>\n",
       "<ellipse fill=\"none\" stroke=\"#000000\" cx=\"266\" cy=\"-128.5\" rx=\"27\" ry=\"18\"/>\n",
       "<text text-anchor=\"middle\" x=\"266\" y=\"-124.8\" font-family=\"Times,serif\" font-size=\"14.00\" fill=\"#000000\">*</text>\n",
       "</g>\n",
       "<!-- 4498734160*&#45;&gt;4498734160 -->\n",
       "<g id=\"edge2\" class=\"edge\">\n",
       "<title>4498734160*&#45;&gt;4498734160</title>\n",
       "<path fill=\"none\" stroke=\"#000000\" d=\"M293.1747,-128.5C301.2502,-128.5 310.6533,-128.5 320.7154,-128.5\"/>\n",
       "<polygon fill=\"#000000\" stroke=\"#000000\" points=\"320.9725,-132.0001 330.9724,-128.5 320.9724,-125.0001 320.9725,-132.0001\"/>\n",
       "</g>\n",
       "<!-- 4498633456 -->\n",
       "<g id=\"node6\" class=\"node\">\n",
       "<title>4498633456</title>\n",
       "<polygon fill=\"none\" stroke=\"#000000\" points=\"1,-55.5 1,-91.5 202,-91.5 202,-55.5 1,-55.5\"/>\n",
       "<text text-anchor=\"middle\" x=\"16.5\" y=\"-69.8\" font-family=\"Times,serif\" font-size=\"14.00\" fill=\"#000000\">x1</text>\n",
       "<polyline fill=\"none\" stroke=\"#000000\" points=\"32,-55.5 32,-91.5 \"/>\n",
       "<text text-anchor=\"middle\" x=\"73\" y=\"-69.8\" font-family=\"Times,serif\" font-size=\"14.00\" fill=\"#000000\">data 2.0000</text>\n",
       "<polyline fill=\"none\" stroke=\"#000000\" points=\"114,-55.5 114,-91.5 \"/>\n",
       "<text text-anchor=\"middle\" x=\"158\" y=\"-69.8\" font-family=\"Times,serif\" font-size=\"14.00\" fill=\"#000000\">grad &#45;1.5000</text>\n",
       "</g>\n",
       "<!-- 4498734400* -->\n",
       "<g id=\"node9\" class=\"node\">\n",
       "<title>4498734400*</title>\n",
       "<ellipse fill=\"none\" stroke=\"#000000\" cx=\"266\" cy=\"-73.5\" rx=\"27\" ry=\"18\"/>\n",
       "<text text-anchor=\"middle\" x=\"266\" y=\"-69.8\" font-family=\"Times,serif\" font-size=\"14.00\" fill=\"#000000\">*</text>\n",
       "</g>\n",
       "<!-- 4498633456&#45;&gt;4498734400* -->\n",
       "<g id=\"edge12\" class=\"edge\">\n",
       "<title>4498633456&#45;&gt;4498734400*</title>\n",
       "<path fill=\"none\" stroke=\"#000000\" d=\"M202.4,-73.5C211.6484,-73.5 220.5648,-73.5 228.6471,-73.5\"/>\n",
       "<polygon fill=\"#000000\" stroke=\"#000000\" points=\"228.7497,-77.0001 238.7497,-73.5 228.7496,-70.0001 228.7497,-77.0001\"/>\n",
       "</g>\n",
       "<!-- 4496785152 -->\n",
       "<g id=\"node7\" class=\"node\">\n",
       "<title>4496785152</title>\n",
       "<polygon fill=\"none\" stroke=\"#000000\" points=\"3.5,-165.5 3.5,-201.5 199.5,-201.5 199.5,-165.5 3.5,-165.5\"/>\n",
       "<text text-anchor=\"middle\" x=\"19\" y=\"-179.8\" font-family=\"Times,serif\" font-size=\"14.00\" fill=\"#000000\">x2</text>\n",
       "<polyline fill=\"none\" stroke=\"#000000\" points=\"34.5,-165.5 34.5,-201.5 \"/>\n",
       "<text text-anchor=\"middle\" x=\"75.5\" y=\"-179.8\" font-family=\"Times,serif\" font-size=\"14.00\" fill=\"#000000\">data 0.0000</text>\n",
       "<polyline fill=\"none\" stroke=\"#000000\" points=\"116.5,-165.5 116.5,-201.5 \"/>\n",
       "<text text-anchor=\"middle\" x=\"158\" y=\"-179.8\" font-family=\"Times,serif\" font-size=\"14.00\" fill=\"#000000\">grad 0.5000</text>\n",
       "</g>\n",
       "<!-- 4496785152&#45;&gt;4498734160* -->\n",
       "<g id=\"edge6\" class=\"edge\">\n",
       "<title>4496785152&#45;&gt;4498734160*</title>\n",
       "<path fill=\"none\" stroke=\"#000000\" d=\"M174.8304,-165.4776C184.3783,-162.6983 193.9721,-159.6844 203,-156.5 213.6067,-152.7587 224.9151,-147.9913 234.981,-143.4553\"/>\n",
       "<polygon fill=\"#000000\" stroke=\"#000000\" points=\"236.5667,-146.5785 244.1876,-139.2182 233.6402,-140.2196 236.5667,-146.5785\"/>\n",
       "</g>\n",
       "<!-- 4498734400 -->\n",
       "<g id=\"node8\" class=\"node\">\n",
       "<title>4498734400</title>\n",
       "<polygon fill=\"none\" stroke=\"#000000\" points=\"329,-55.5 329,-91.5 546,-91.5 546,-55.5 329,-55.5\"/>\n",
       "<text text-anchor=\"middle\" x=\"353\" y=\"-69.8\" font-family=\"Times,serif\" font-size=\"14.00\" fill=\"#000000\">x1w1</text>\n",
       "<polyline fill=\"none\" stroke=\"#000000\" points=\"377,-55.5 377,-91.5 \"/>\n",
       "<text text-anchor=\"middle\" x=\"420\" y=\"-69.8\" font-family=\"Times,serif\" font-size=\"14.00\" fill=\"#000000\">data &#45;6.0000</text>\n",
       "<polyline fill=\"none\" stroke=\"#000000\" points=\"463,-55.5 463,-91.5 \"/>\n",
       "<text text-anchor=\"middle\" x=\"504.5\" y=\"-69.8\" font-family=\"Times,serif\" font-size=\"14.00\" fill=\"#000000\">grad 0.5000</text>\n",
       "</g>\n",
       "<!-- 4498734400&#45;&gt;4499991120+ -->\n",
       "<g id=\"edge7\" class=\"edge\">\n",
       "<title>4498734400&#45;&gt;4499991120+</title>\n",
       "<path fill=\"none\" stroke=\"#000000\" d=\"M546.1136,-90.5995C555.4502,-92.0694 564.3967,-93.4779 572.4646,-94.7481\"/>\n",
       "<polygon fill=\"#000000\" stroke=\"#000000\" points=\"572.1006,-98.2338 582.5233,-96.3317 573.1893,-91.319 572.1006,-98.2338\"/>\n",
       "</g>\n",
       "<!-- 4498734400*&#45;&gt;4498734400 -->\n",
       "<g id=\"edge3\" class=\"edge\">\n",
       "<title>4498734400*&#45;&gt;4498734400</title>\n",
       "<path fill=\"none\" stroke=\"#000000\" d=\"M293.1747,-73.5C300.6657,-73.5 309.2992,-73.5 318.5414,-73.5\"/>\n",
       "<polygon fill=\"#000000\" stroke=\"#000000\" points=\"318.7839,-77.0001 328.7839,-73.5 318.7839,-70.0001 318.7839,-77.0001\"/>\n",
       "</g>\n",
       "<!-- 4500245328 -->\n",
       "<g id=\"node10\" class=\"node\">\n",
       "<title>4500245328</title>\n",
       "<polygon fill=\"none\" stroke=\"#000000\" points=\"2,-110.5 2,-146.5 201,-146.5 201,-110.5 2,-110.5\"/>\n",
       "<text text-anchor=\"middle\" x=\"19\" y=\"-124.8\" font-family=\"Times,serif\" font-size=\"14.00\" fill=\"#000000\">w2</text>\n",
       "<polyline fill=\"none\" stroke=\"#000000\" points=\"36,-110.5 36,-146.5 \"/>\n",
       "<text text-anchor=\"middle\" x=\"77\" y=\"-124.8\" font-family=\"Times,serif\" font-size=\"14.00\" fill=\"#000000\">data 1.0000</text>\n",
       "<polyline fill=\"none\" stroke=\"#000000\" points=\"118,-110.5 118,-146.5 \"/>\n",
       "<text text-anchor=\"middle\" x=\"159.5\" y=\"-124.8\" font-family=\"Times,serif\" font-size=\"14.00\" fill=\"#000000\">grad 0.0000</text>\n",
       "</g>\n",
       "<!-- 4500245328&#45;&gt;4498734160* -->\n",
       "<g id=\"edge9\" class=\"edge\">\n",
       "<title>4500245328&#45;&gt;4498734160*</title>\n",
       "<path fill=\"none\" stroke=\"#000000\" d=\"M201.4574,-128.5C211.1075,-128.5 220.4163,-128.5 228.8176,-128.5\"/>\n",
       "<polygon fill=\"#000000\" stroke=\"#000000\" points=\"228.9312,-132.0001 238.9312,-128.5 228.9312,-125.0001 228.9312,-132.0001\"/>\n",
       "</g>\n",
       "<!-- 4499990896 -->\n",
       "<g id=\"node11\" class=\"node\">\n",
       "<title>4499990896</title>\n",
       "<polygon fill=\"none\" stroke=\"#000000\" points=\"1061,-109.5 1061,-145.5 1250,-145.5 1250,-109.5 1061,-109.5\"/>\n",
       "<text text-anchor=\"middle\" x=\"1073\" y=\"-123.8\" font-family=\"Times,serif\" font-size=\"14.00\" fill=\"#000000\">n</text>\n",
       "<polyline fill=\"none\" stroke=\"#000000\" points=\"1085,-109.5 1085,-145.5 \"/>\n",
       "<text text-anchor=\"middle\" x=\"1126\" y=\"-123.8\" font-family=\"Times,serif\" font-size=\"14.00\" fill=\"#000000\">data 0.8814</text>\n",
       "<polyline fill=\"none\" stroke=\"#000000\" points=\"1167,-109.5 1167,-145.5 \"/>\n",
       "<text text-anchor=\"middle\" x=\"1208.5\" y=\"-123.8\" font-family=\"Times,serif\" font-size=\"14.00\" fill=\"#000000\">grad 0.5000</text>\n",
       "</g>\n",
       "<!-- 4498822512tanh -->\n",
       "<g id=\"node15\" class=\"node\">\n",
       "<title>4498822512tanh</title>\n",
       "<ellipse fill=\"none\" stroke=\"#000000\" cx=\"1313\" cy=\"-127.5\" rx=\"27\" ry=\"18\"/>\n",
       "<text text-anchor=\"middle\" x=\"1313\" y=\"-123.8\" font-family=\"Times,serif\" font-size=\"14.00\" fill=\"#000000\">tanh</text>\n",
       "</g>\n",
       "<!-- 4499990896&#45;&gt;4498822512tanh -->\n",
       "<g id=\"edge8\" class=\"edge\">\n",
       "<title>4499990896&#45;&gt;4498822512tanh</title>\n",
       "<path fill=\"none\" stroke=\"#000000\" d=\"M1250.2993,-127.5C1259.1677,-127.5 1267.7525,-127.5 1275.5777,-127.5\"/>\n",
       "<polygon fill=\"#000000\" stroke=\"#000000\" points=\"1275.7328,-131.0001 1285.7328,-127.5 1275.7327,-124.0001 1275.7328,-131.0001\"/>\n",
       "</g>\n",
       "<!-- 4499990896+&#45;&gt;4499990896 -->\n",
       "<g id=\"edge4\" class=\"edge\">\n",
       "<title>4499990896+&#45;&gt;4499990896</title>\n",
       "<path fill=\"none\" stroke=\"#000000\" d=\"M1025.0752,-127.5C1032.6322,-127.5 1041.3259,-127.5 1050.562,-127.5\"/>\n",
       "<polygon fill=\"#000000\" stroke=\"#000000\" points=\"1050.7689,-131.0001 1060.7688,-127.5 1050.7688,-124.0001 1050.7689,-131.0001\"/>\n",
       "</g>\n",
       "<!-- 4499232144 -->\n",
       "<g id=\"node13\" class=\"node\">\n",
       "<title>4499232144</title>\n",
       "<polygon fill=\"none\" stroke=\"#000000\" points=\"0,-.5 0,-36.5 203,-36.5 203,-.5 0,-.5\"/>\n",
       "<text text-anchor=\"middle\" x=\"17\" y=\"-14.8\" font-family=\"Times,serif\" font-size=\"14.00\" fill=\"#000000\">w1</text>\n",
       "<polyline fill=\"none\" stroke=\"#000000\" points=\"34,-.5 34,-36.5 \"/>\n",
       "<text text-anchor=\"middle\" x=\"77\" y=\"-14.8\" font-family=\"Times,serif\" font-size=\"14.00\" fill=\"#000000\">data &#45;3.0000</text>\n",
       "<polyline fill=\"none\" stroke=\"#000000\" points=\"120,-.5 120,-36.5 \"/>\n",
       "<text text-anchor=\"middle\" x=\"161.5\" y=\"-14.8\" font-family=\"Times,serif\" font-size=\"14.00\" fill=\"#000000\">grad 1.0000</text>\n",
       "</g>\n",
       "<!-- 4499232144&#45;&gt;4498734400* -->\n",
       "<g id=\"edge10\" class=\"edge\">\n",
       "<title>4499232144&#45;&gt;4498734400*</title>\n",
       "<path fill=\"none\" stroke=\"#000000\" d=\"M171.7741,-36.5476C182.3123,-39.6394 192.9942,-42.994 203,-46.5 213.4678,-50.1679 224.6649,-54.7442 234.6725,-59.0812\"/>\n",
       "<polygon fill=\"#000000\" stroke=\"#000000\" points=\"233.2785,-62.2917 243.8403,-63.1286 236.1056,-55.888 233.2785,-62.2917\"/>\n",
       "</g>\n",
       "<!-- 4498822512 -->\n",
       "<g id=\"node14\" class=\"node\">\n",
       "<title>4498822512</title>\n",
       "<polygon fill=\"none\" stroke=\"#000000\" points=\"1376,-109.5 1376,-145.5 1565,-145.5 1565,-109.5 1376,-109.5\"/>\n",
       "<text text-anchor=\"middle\" x=\"1388\" y=\"-123.8\" font-family=\"Times,serif\" font-size=\"14.00\" fill=\"#000000\">o</text>\n",
       "<polyline fill=\"none\" stroke=\"#000000\" points=\"1400,-109.5 1400,-145.5 \"/>\n",
       "<text text-anchor=\"middle\" x=\"1441\" y=\"-123.8\" font-family=\"Times,serif\" font-size=\"14.00\" fill=\"#000000\">data 0.7071</text>\n",
       "<polyline fill=\"none\" stroke=\"#000000\" points=\"1482,-109.5 1482,-145.5 \"/>\n",
       "<text text-anchor=\"middle\" x=\"1523.5\" y=\"-123.8\" font-family=\"Times,serif\" font-size=\"14.00\" fill=\"#000000\">grad 1.0000</text>\n",
       "</g>\n",
       "<!-- 4498822512tanh&#45;&gt;4498822512 -->\n",
       "<g id=\"edge5\" class=\"edge\">\n",
       "<title>4498822512tanh&#45;&gt;4498822512</title>\n",
       "<path fill=\"none\" stroke=\"#000000\" d=\"M1340.0752,-127.5C1347.6322,-127.5 1356.3259,-127.5 1365.562,-127.5\"/>\n",
       "<polygon fill=\"#000000\" stroke=\"#000000\" points=\"1365.7689,-131.0001 1375.7688,-127.5 1365.7688,-124.0001 1365.7689,-131.0001\"/>\n",
       "</g>\n",
       "</g>\n",
       "</svg>\n"
      ],
      "text/plain": [
       "<graphviz.graphs.Digraph at 0x10c23eba0>"
      ]
     },
     "execution_count": 12,
     "metadata": {},
     "output_type": "execute_result"
    }
   ],
   "source": [
    "draw_dot(o)"
   ]
  },
  {
   "cell_type": "code",
   "execution_count": 13,
   "id": "171c3e93",
   "metadata": {},
   "outputs": [],
   "source": [
    "# inputs x1, x2\n",
    "x1 = Value(2.0, label='x1')\n",
    "x2 = Value(0.0, label='x2')\n",
    "\n",
    "# weights w1, w2\n",
    "w1 = Value(-3.0, label='w1')\n",
    "w2 = Value(1.0, label='w2')\n",
    "\n",
    "# bias of the neuron\n",
    "b = Value(6.8813735870195432, label='b')\n",
    "\n",
    "# x1w1 + x2w2 + b\n",
    "x1w1 = x1*w1; x1w1.label = 'x1w1'\n",
    "x2w2 = x2*w2; x2w2.label = 'x2w2'\n",
    "\n",
    "x1w1x2w2 = x1w1 + x2w2; x1w1x2w2.label = 'x1w1 + x2w2'\n",
    "\n",
    "n = x1w1x2w2 + b; n.label = 'n'\n",
    "\n",
    "# --- tanh spelled out - to verify that backprop give the same result independent of what level of \n",
    "# --- operators we use (tanh directly vs thorugh exp, add and multiply)\n",
    "e = (2*n).exp()\n",
    "o = (e - 1)/(e + 1)\n",
    "# ---\n",
    "\n",
    "o.label = 'o'\n",
    "\n",
    "o.backward()"
   ]
  },
  {
   "cell_type": "code",
   "execution_count": 14,
   "id": "b2e25171",
   "metadata": {},
   "outputs": [
    {
     "name": "stdout",
     "output_type": "stream",
     "text": [
      "0.7071066904050358\n",
      "---\n",
      "x2 0.5000001283844369\n",
      "w2 0.0\n",
      "x1 -1.5000003851533106\n",
      "w1 1.0000002567688737\n"
     ]
    }
   ],
   "source": [
    "import torch\n",
    "\n",
    "x1 = torch.Tensor([2.0]).double()                   ; x1.requires_grad = True\n",
    "x2 = torch.Tensor([0.0]).double()                   ; x2.requires_grad = True\n",
    "w1 = torch.Tensor([-3.0]).double()                  ; w1.requires_grad = True\n",
    "w2 = torch.Tensor([1.0]).double()                   ; w2.requires_grad = True\n",
    "b = torch.Tensor([6.8813735870195432]).double()     ; b.requires_grad = True\n",
    "\n",
    "n = x1*w1 + x2*w2 + b\n",
    "o = torch.tanh(n)\n",
    "\n",
    "print(o.data.item())\n",
    "o.backward()\n",
    "\n",
    "print('---')\n",
    "print('x2', x2.grad.item())\n",
    "print('w2', w2.grad.item())\n",
    "print('x1', x1.grad.item())\n",
    "print('w1', w1.grad.item())"
   ]
  },
  {
   "cell_type": "code",
   "execution_count": 15,
   "id": "184a255f",
   "metadata": {},
   "outputs": [],
   "source": [
    "import random\n",
    "\n",
    "class Neuron:\n",
    "\n",
    "    def __init__(self, nin):\n",
    "        self.w = [Value(random.uniform(-1, 1)) for _ in range(nin)]\n",
    "        self.b = Value(random.uniform(-1, 1))\n",
    "\n",
    "    def __call__(self, x):\n",
    "        # w * x + b\n",
    "        act = sum((wi*xi for wi, xi in zip(self.w, x)), self.b)\n",
    "        out = act.tanh()\n",
    "        return out\n",
    "    \n",
    "    def parameters(self):\n",
    "        return self.w + [self.b]\n",
    "\n",
    "class Layer:\n",
    "\n",
    "    def __init__(self, nin, nout):\n",
    "        self.neurons = [Neuron(nin) for _ in range(nout)]\n",
    "    \n",
    "    def __call__(self, x):\n",
    "        outs = [n(x) for n in self.neurons]\n",
    "        return outs[0] if len(outs) == 1 else outs\n",
    "    \n",
    "    def parameters(self):\n",
    "        return [p for neuron in self.neurons for p in neuron.parameters()]\n",
    "    \n",
    "class MLP:\n",
    "\n",
    "    def __init__(self, nin, nouts):\n",
    "        sz = [nin] + nouts\n",
    "        self.layers = [Layer(sz[i], sz[i+1]) for i in range(len(nouts))]\n",
    "    \n",
    "    def __call__(self, x):\n",
    "        for layer in self.layers:\n",
    "            x = layer(x)\n",
    "        return x\n",
    "    \n",
    "    def parameters(self):\n",
    "        return [p for layer in self.layers for p in layer.parameters()]\n"
   ]
  },
  {
   "cell_type": "code",
   "execution_count": 130,
   "id": "4c49d149",
   "metadata": {},
   "outputs": [
    {
     "data": {
      "text/plain": [
       "Value(data=-0.03884645263033959)"
      ]
     },
     "execution_count": 130,
     "metadata": {},
     "output_type": "execute_result"
    }
   ],
   "source": [
    "x = [2.0, 3.0, -1.0]\n",
    "n = MLP(3, [4, 4, 1])\n",
    "n(x)"
   ]
  },
  {
   "cell_type": "code",
   "execution_count": 131,
   "id": "f79c559e",
   "metadata": {},
   "outputs": [
    {
     "data": {
      "text/plain": [
       "41"
      ]
     },
     "execution_count": 131,
     "metadata": {},
     "output_type": "execute_result"
    }
   ],
   "source": [
    "len(n.parameters())"
   ]
  },
  {
   "cell_type": "code",
   "execution_count": 132,
   "id": "498d77e9",
   "metadata": {},
   "outputs": [],
   "source": [
    "xs = [\n",
    "    [2.0, 3.0, -1.0],\n",
    "    [3.0, -1.0, 0.5],\n",
    "    [0.5, 1.0, 1.0],\n",
    "    [1.0, 1.0, -1.0]\n",
    "]\n",
    "\n",
    "ys = [1.0, -1.0, -1.0, 1.0] # desired targets"
   ]
  },
  {
   "cell_type": "code",
   "execution_count": 137,
   "id": "aa57e627",
   "metadata": {},
   "outputs": [
    {
     "name": "stdout",
     "output_type": "stream",
     "text": [
      "0 0.010118993911674052\n",
      "1 0.009935218859919123\n",
      "2 0.00975771687838136\n",
      "3 0.009586177294691129\n",
      "4 0.009420309443143331\n",
      "5 0.009259841088331772\n",
      "6 0.009104516994969555\n",
      "7 0.008954097628363012\n",
      "8 0.008808357971859767\n",
      "9 0.008667086449201488\n",
      "10 0.00853008394111158\n",
      "11 0.008397162886667704\n",
      "12 0.008268146461074696\n",
      "13 0.008142867822385935\n",
      "14 0.00802116942053885\n",
      "15 0.00790290236278834\n",
      "16 0.007787925830253903\n",
      "17 0.007676106540853565\n",
      "18 0.0075673182543895615\n",
      "19 0.007461441315986616\n"
     ]
    }
   ],
   "source": [
    "\n",
    "for k in range(20):\n",
    "    # forward pass\n",
    "    ypred = [n(x) for x in xs]\n",
    "    loss = sum([(yout - ygt)**2 for ygt, yout in zip(ys, ypred)])\n",
    "    \n",
    "    # reset gradients\n",
    "    for p in n.parameters():\n",
    "        p.grad = 0.0\n",
    "        \n",
    "    # backward pass\n",
    "    loss.backward()\n",
    "\n",
    "    # update (gradient descent)\n",
    "    for p in n.parameters():\n",
    "        p.data += -0.05* p.grad\n",
    "    \n",
    "    print(k, loss.data)\n"
   ]
  },
  {
   "cell_type": "code",
   "execution_count": 138,
   "id": "2cf727db",
   "metadata": {},
   "outputs": [
    {
     "data": {
      "text/plain": [
       "[Value(data=0.9769971411042462),\n",
       " Value(data=-0.9602070145367917),\n",
       " Value(data=-0.9509362528189672),\n",
       " Value(data=0.9457636946401283)]"
      ]
     },
     "execution_count": 138,
     "metadata": {},
     "output_type": "execute_result"
    }
   ],
   "source": [
    "ypred"
   ]
  }
 ],
 "metadata": {
  "kernelspec": {
   "display_name": "micrograd",
   "language": "python",
   "name": "python3"
  },
  "language_info": {
   "codemirror_mode": {
    "name": "ipython",
    "version": 3
   },
   "file_extension": ".py",
   "mimetype": "text/x-python",
   "name": "python",
   "nbconvert_exporter": "python",
   "pygments_lexer": "ipython3",
   "version": "3.13.5"
  }
 },
 "nbformat": 4,
 "nbformat_minor": 5
}
